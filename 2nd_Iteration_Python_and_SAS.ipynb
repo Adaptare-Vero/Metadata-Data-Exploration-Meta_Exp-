{
  "nbformat": 4,
  "nbformat_minor": 0,
  "metadata": {
    "colab": {
      "provenance": []
    },
    "kernelspec": {
      "name": "python3",
      "display_name": "Python 3"
    },
    "language_info": {
      "name": "python"
    }
  },
  "cells": [
    {
      "cell_type": "markdown",
      "source": [
        "**Python code**"
      ],
      "metadata": {
        "id": "Ji3jd01fK0tL"
      }
    },
    {
      "cell_type": "code",
      "execution_count": null,
      "metadata": {
        "id": "BLXTTNOCKtxW"
      },
      "outputs": [],
      "source": [
        "# Step 1: Install Required Libraries\n",
        "!pip install pandas openpyxl\n",
        "\n",
        "# Step 2: Upload an Excel File to Google Colab\n",
        "from google.colab import files\n",
        "\n",
        "print(\"Please upload your Excel file:\")\n",
        "uploaded = files.upload()  # Prompt the user to upload the Excel file\n",
        "\n",
        "# Step 3: Read and Process the Excel File\n",
        "import pandas as pd\n",
        "\n",
        "# Get the uploaded file name\n",
        "file_name = list(uploaded.keys())[0]\n",
        "\n",
        "try:\n",
        "    # Step 4: Load the Excel file into a pandas DataFrame\n",
        "    df = pd.read_excel(file_name)\n",
        "    print(f\"Data loaded successfully! Here are the first few rows:\\n{df.head()}\")\n",
        "\n",
        "    # Step 5: Ensure the First Column is 'Name'\n",
        "    first_column = df.columns[0]\n",
        "    if first_column.lower() != 'name':\n",
        "        raise ValueError(f\"The first column is not 'Name'. Found '{first_column}' instead.\")\n",
        "\n",
        "    # Step 6: Calculate Metadata Summary\n",
        "    name_non_null_count = df['Name'].notnull().sum()\n",
        "    if name_non_null_count == 0:\n",
        "        raise ValueError(\"The 'Name' column has no non-null values, so percentages cannot be calculated.\")\n",
        "\n",
        "    summary = []\n",
        "    for column in df.columns:\n",
        "        non_null_count = df[column].notnull().sum()\n",
        "\n",
        "        # Count occurrences of 'bkp', 'bck', 'bk', or 'backup' (case-insensitive) within each entry, including substrings\n",
        "        backup_count = df[column].astype(str).str.contains(r'(bkp|bck|bk|backup)', case=False, na=False).sum()\n",
        "\n",
        "        percentage_of_name = (non_null_count / name_non_null_count * 100)\n",
        "\n",
        "        summary.append({\n",
        "            'Column Name': column,\n",
        "            'MetaData Counts': non_null_count,\n",
        "            'Percentage Of Completion': f\"{percentage_of_name:.2f}%\",\n",
        "            'Backups Count': backup_count,\n",
        "        })\n",
        "\n",
        "    # Create a DataFrame for the summary\n",
        "    summary_df = pd.DataFrame(summary)\n",
        "    print(\"\\nMetadata Summary:\")\n",
        "    print(summary_df)\n",
        "\n",
        "    # Step 7: Save the Summary to a New Excel File\n",
        "    output_file = \"metadata_summary_with_backups.xlsx\"\n",
        "    summary_df.to_excel(output_file, index=False)\n",
        "    print(f\"\\nMetadata summary saved as {output_file}.\")\n",
        "\n",
        "    # Step 8: Download the Processed File\n",
        "    files.download(output_file)\n",
        "\n",
        "except Exception as e:\n",
        "    print(f\"Error processing the file: {e}\")\n"
      ]
    },
    {
      "cell_type": "markdown",
      "source": [
        "**SAS** **Code**\n",
        "\n"
      ],
      "metadata": {
        "id": "6M-zUedRK7AM"
      }
    },
    {
      "cell_type": "code",
      "source": [
        "# Install SASPy\n",
        "!pip install saspy\n",
        "\n",
        "# Import SASPy\n",
        "import saspy\n",
        "import pandas as pd\n",
        "\n",
        "# Establish a connection to a remote or local SAS environment\n",
        "sas = saspy.SASsession(cfgname='iom')  # Use 'sas' for local SAS or 'iom' for remote SAS server\n",
        "\n",
        "# SAS Code for Processing Excel Files\n",
        "sas_code = \"\"\"\n",
        "    libname mylib 'path-to-your-directory';  /* Define your SAS library location */\n",
        "\n",
        "    /* Import the Excel file */\n",
        "    proc import datafile='path-to-your-file.xlsx'\n",
        "        out=mylib.mydata\n",
        "        dbms=xlsx\n",
        "        replace;\n",
        "    run;\n",
        "\n",
        "    /* Generate Metadata Summary */\n",
        "    proc contents data=mylib.mydata out=work.metadata;\n",
        "    run;\n",
        "\n",
        "    data work.metadata_summary;\n",
        "        set work.metadata;\n",
        "        backup_count = 0;\n",
        "        if index(upcase(name), 'BKP') > 0 or index(upcase(name), 'BCK') > 0 or\n",
        "           index(upcase(name), 'BK') > 0 or index(upcase(name), 'BACKUP') > 0 then backup_count = 1;\n",
        "    run;\n",
        "\n",
        "    proc print data=work.metadata_summary;\n",
        "    run;\n",
        "\"\"\"\n",
        "\n",
        "# Execute the SAS code\n",
        "sas.submit(sas_code)\n"
      ],
      "metadata": {
        "colab": {
          "base_uri": "https://localhost:8080/"
        },
        "id": "vJsvjlV4K4t4",
        "outputId": "0cc49096-eaf7-4766-9462-a864b6ad0339"
      },
      "execution_count": null,
      "outputs": [
        {
          "output_type": "stream",
          "name": "stdout",
          "text": [
            "Requirement already satisfied: saspy in /usr/local/lib/python3.10/dist-packages (5.101.0)\n"
          ]
        }
      ]
    }
  ]
}